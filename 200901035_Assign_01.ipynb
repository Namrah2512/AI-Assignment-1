{
 "cells": [
  {
   "cell_type": "code",
   "execution_count": 2,
   "id": "122f0e98",
   "metadata": {},
   "outputs": [
    {
     "name": "stdout",
     "output_type": "stream",
     "text": [
      "Shortest path from Arad to Bucharest: ['Arad', 'Sibiu', 'Rimnicu Vilcea', 'Pitesti', 'Bucharest']\n",
      "Total distance: 418 km\n"
     ]
    }
   ],
   "source": [
    "# Define the graph as a dictionary where the keys are the cities and the values are dictionaries of neighboring cities and their distances\n",
    "graph = {\n",
    "  'Arad': {'Zerind': 75, 'Timisoara': 118, 'Sibiu': 140},\n",
    "  'Bucharest': {'Urziceni': 85, 'Pitesti': 101, 'Giurgiu': 90, 'Fagaras': 211},\n",
    "  'Craiova': {'Dobreta': 120, 'Rimnicu Vilcea': 146, 'Pitesti': 138},\n",
    "  'Dobreta': {'Mehadia': 75, 'Craiova': 120},\n",
    "  'Eforie': {'Hirsova': 86},\n",
    "  'Fagaras': {'Sibiu': 99, 'Bucharest': 211},\n",
    "  'Giurgiu': {'Bucharest': 90},\n",
    "  'Hirsova': {'Urziceni': 98, 'Eforie': 86},\n",
    "  'Iasi': {'Neamt': 87, 'Vaslui': 92},\n",
    "  'Lugoj': {'Timisoara': 111, 'Mehadia': 70},\n",
    "  'Mehadia': {'Lugoj': 70, 'Dobreta': 75},\n",
    "  'Neamt': {'Iasi': 87},\n",
    "  'Oradea': {'Zerind': 71, 'Sibiu': 151},\n",
    "  'Pitesti': {'Rimnicu Vilcea': 97, 'Bucharest': 101, 'Craiova': 138},\n",
    "  'Rimnicu Vilcea': {'Sibiu': 80, 'Craiova': 146, 'Pitesti': 97},\n",
    "  'Sibiu': {'Arad': 140, 'Oradea': 151, 'Fagaras': 99, 'Rimnicu Vilcea': 80},\n",
    "  'Timisoara': {'Arad': 118, 'Lugoj': 111},\n",
    "  'Urziceni': {'Bucharest': 85, 'Hirsova': 98, 'Vaslui': 142},\n",
    "  'Vaslui': {'Iasi': 92, 'Urziceni': 142},\n",
    "  'Zerind': {'Arad': 75, 'Oradea': 71}\n",
    "}\n",
    "\n",
    "# Define the starting city and the target city\n",
    "start = 'Arad'\n",
    "goal = 'Bucharest'\n",
    "\n",
    "# keep track of the shortest distances from the starting city to each city in the graph\n",
    "distances = {city: float('infinity') for city in graph}\n",
    "distances[start] = 0\n",
    "\n",
    "#keep track of the previous city in the shortest path to each city and initialize each city with a value of None\n",
    "previous_cities = {city: None for city in graph}\n",
    "\n",
    "# Create a set to keep track of visited cities\n",
    "visited = set()\n",
    "\n",
    "# Loop will continue until all cities have been visited\n",
    "while len(visited) < len(graph):\n",
    "\n",
    "# Find the unvisited city with the shortest distance from the starting city and this is done by iterating through all cities\n",
    "  min_distance = float('infinity')\n",
    "  min_city = None\n",
    "  for city in graph:\n",
    "#if the city has not been visited yet and if the distance to the city from starting city is less than minimum distance found so far.\n",
    "\n",
    "    if city not in visited and distances[city] < min_distance: \n",
    "      min_distance = distances[city]\n",
    "      min_city = city\n",
    "\n",
    "#Visit the city with the shortest distance by adding it to the visited set\n",
    "  visited.add(min_city)\n",
    "\n",
    "  # Update the distances to the neighboring cities of the visited city if shortest path is found n is done by calculating new distance to the neighbouring city\n",
    "  for neighbor, distance in graph[min_city].items():\n",
    "    new_distance = distances[min_city] + distance\n",
    "    if new_distance < distances[neighbor]: #if shorter than the new distance is updated \n",
    "      distances[neighbor] = new_distance\n",
    "      previous_cities[neighbor] = min_city\n",
    "\n",
    "# Build the shortest path from the previous_cities dictionary\n",
    "#path is stored in a list n then reversed to get the correct order of cities\n",
    "path = [] \n",
    "current_city = goal\n",
    "while current_city != start:\n",
    "  path.append(current_city)\n",
    "  current_city = previous_cities[current_city]\n",
    "path.append(start)\n",
    "path.reverse()\n",
    "\n",
    "# Print the shortest path and the total distance\n",
    "print(f'Shortest path from {start} to {goal}: {path}')\n",
    "print(f'Total distance: {distances[goal]} km')"
   ]
  },
  {
   "cell_type": "code",
   "execution_count": 3,
   "id": "6d1b581c",
   "metadata": {},
   "outputs": [
    {
     "name": "stdout",
     "output_type": "stream",
     "text": [
      "\n",
      "The shortest path from 'Arad' to 'Bucharest' using BFS is: ['Arad', 'Sibiu', 'Fagaras', 'Bucharest']\n",
      "\n",
      "The shortest path from 'Arad' to 'Bucharest' using DFS is: ['Arad', 'Sibiu', 'Rimnicu Vilcea', 'Pitesti', 'Bucharest']\n",
      "\n",
      "DFS outperforms BFS with total distance: 418 Km\n"
     ]
    }
   ],
   "source": []
  },
  {
   "cell_type": "code",
   "execution_count": null,
   "id": "0b795bb2",
   "metadata": {},
   "outputs": [],
   "source": []
  }
 ],
 "metadata": {
  "kernelspec": {
   "display_name": "Python 3",
   "language": "python",
   "name": "python3"
  },
  "language_info": {
   "codemirror_mode": {
    "name": "ipython",
    "version": 3
   },
   "file_extension": ".py",
   "mimetype": "text/x-python",
   "name": "python",
   "nbconvert_exporter": "python",
   "pygments_lexer": "ipython3",
   "version": "3.8.8"
  }
 },
 "nbformat": 4,
 "nbformat_minor": 5
}
